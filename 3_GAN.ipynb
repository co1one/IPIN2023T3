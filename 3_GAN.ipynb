{
 "cells": [
  {
   "cell_type": "code",
   "execution_count": null,
   "metadata": {},
   "outputs": [],
   "source": [
    "class Params:\n",
    "    def __init__(self):\n",
    "        self.dir='./dataset/IPIN2023_T3_TrainingTrials'\n",
    "        self.calibration_coor='./dataset/IPIN2023_T3_SupplementaryMaterials/01 - Calibration Floormaps/references.csv'\n",
    "        # self.model_type = \"RandomForest\"\n",
    "        # self.n_estimators = 100\n",
    "        # self.max_depth = None\n",
    "        # self.learning_rate = 0.1\n",
    "        # self.epochs = 10\n",
    "        # self.batch_size = 32\n",
    "p = Params()"
   ]
  },
  {
   "cell_type": "code",
   "execution_count": null,
   "metadata": {},
   "outputs": [],
   "source": [
    "import os\n",
    "import pandas as pd\n",
    "from test import get_sub_files"
   ]
  },
  {
   "cell_type": "markdown",
   "metadata": {},
   "source": [
    "POSI Reference:                    'POSI;Timestamp(s);Counter;Latitude(degrees); Longitude(degrees);floor ID(0,1,2..4);Building ID(0,1,2..3);'   \n",
    "\n",
    "WIFI data:                  'WIFI;AppTimestamp(s);SensorTimeStamp(s);Name_SSID;MAC_BSSID;Frequency;RSS(dBm);'"
   ]
  },
  {
   "cell_type": "code",
   "execution_count": null,
   "metadata": {},
   "outputs": [],
   "source": []
  },
  {
   "cell_type": "code",
   "execution_count": null,
   "metadata": {},
   "outputs": [],
   "source": []
  },
  {
   "cell_type": "code",
   "execution_count": null,
   "metadata": {},
   "outputs": [],
   "source": []
  },
  {
   "cell_type": "code",
   "execution_count": null,
   "metadata": {},
   "outputs": [],
   "source": []
  }
 ],
 "metadata": {
  "language_info": {
   "name": "python"
  }
 },
 "nbformat": 4,
 "nbformat_minor": 2
}
